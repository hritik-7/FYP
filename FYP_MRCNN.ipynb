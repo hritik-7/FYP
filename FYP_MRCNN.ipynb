{
  "cells": [
    {
      "cell_type": "markdown",
      "metadata": {
        "id": "view-in-github",
        "colab_type": "text"
      },
      "source": [
        "<a href=\"https://colab.research.google.com/github/hritik-7/FYP/blob/main/FYP_MRCNN.ipynb\" target=\"_parent\"><img src=\"https://colab.research.google.com/assets/colab-badge.svg\" alt=\"Open In Colab\"/></a>"
      ]
    },
    {
      "cell_type": "markdown",
      "source": [
        "# ***Mask R-CNN Model***\n",
        "\n"
      ],
      "metadata": {
        "id": "-YqUllW1eQ9m"
      }
    },
    {
      "cell_type": "markdown",
      "source": [
        "."
      ],
      "metadata": {
        "id": "9mpl4AJoea1t"
      }
    },
    {
      "cell_type": "markdown",
      "source": [
        "# Enable GPU in this notebook.\n",
        "*   Click **Runtime** at the top of the notebook.\n",
        "*   Click **Change Runtime Type**.\n",
        "*   Select **GPU** as the hardware accelerator.\n",
        "*   Click **Save**."
      ],
      "metadata": {
        "id": "EaeUadAYYo9V"
      }
    },
    {
      "cell_type": "markdown",
      "source": [
        "."
      ],
      "metadata": {
        "id": "A-wHymSxePLY"
      }
    },
    {
      "cell_type": "markdown",
      "metadata": {
        "id": "rHu0zicUJaKh"
      },
      "source": [
        "# **Run first two boxes sequentially (do not press run all)**\n",
        " Run each of the following commands one by one\n",
        " (the first command restarts the runtime in the end so it turns red instead of green).\n",
        " \n",
        " This process may take a few minutes"
      ]
    },
    {
      "cell_type": "markdown",
      "metadata": {
        "id": "_HPUaFk8-Xmv"
      },
      "source": [
        "## 1) Clone the repository and run the following commands\n"
      ]
    },
    {
      "cell_type": "code",
      "execution_count": null,
      "metadata": {
        "id": "z58pAaCznjn_"
      },
      "outputs": [],
      "source": [
        "!git clone --branch master https://gitlab.com/sc19h2m/fyp.git\n",
        "%tensorflow_version 1.x\n",
        "import tensorflow\n",
        "print(tensorflow.__version__)\n",
        "!pip install keras==2.2.4\n",
        "!pip install q theano==1.0.4\n",
        "import os\n",
        "os.chdir(\"fyp/rcnn/Mask_RCNN\")\n",
        "!python setup.py install\n",
        "os.chdir(\"../../zind\")\n",
        "!pip install -r requirements.txt\n",
        "os.chdir(\"..\")\n",
        "!python fyp_req.py\n",
        "os.chdir(\"window_detector\")\n",
        "\n",
        "os.kill(os.getpid(), 9)"
      ]
    },
    {
      "cell_type": "markdown",
      "metadata": {
        "id": "FsdV_k4l-d2s"
      },
      "source": [
        "# 2) More commands"
      ]
    },
    {
      "cell_type": "code",
      "execution_count": null,
      "metadata": {
        "id": "WcSIFgaEGzOm"
      },
      "outputs": [],
      "source": [
        "%tensorflow_version 1.x\n",
        "import tensorflow\n",
        "print(tensorflow.__version__)\n",
        "!pip install keras==2.2.4\n",
        "import keras\n",
        "print(keras.__version__)\n",
        "import os\n",
        "os.chdir(\"fyp/window_detector\")"
      ]
    },
    {
      "cell_type": "markdown",
      "source": [
        "."
      ],
      "metadata": {
        "id": "e0thPrKCeNG9"
      }
    },
    {
      "cell_type": "markdown",
      "source": [
        "# Training\n",
        "Run the boxes sequentially"
      ],
      "metadata": {
        "id": "gZoDR56kiPBc"
      }
    },
    {
      "cell_type": "code",
      "execution_count": 2,
      "metadata": {
        "id": "S_MVub5NYbfr"
      },
      "outputs": [],
      "source": [
        "# BEFORE TRAINING\n",
        "# open both files\n",
        "with open('saving_train.py','r') as firstfile, open('../../../usr/local/lib/python3.7/dist-packages/keras/engine/saving.py','w') as secondfile:\n",
        "      \n",
        "    # read content from first file\n",
        "    for line in firstfile:\n",
        "               \n",
        "             # write content to second file\n",
        "             secondfile.write(line)"
      ]
    },
    {
      "cell_type": "markdown",
      "metadata": {
        "id": "HV_qdlkMK3Uh"
      },
      "source": [
        "### Training arguements:\n",
        "-i: Total number of image directories\n",
        "\n",
        "-t: Directories to train\n",
        "\n",
        "-d: Image dimensions (>=256 and multiple of 32)\n",
        "\n",
        "-e: Number of epochs\n",
        "\n",
        "-s: Steps per epoch\n",
        "\n",
        "-lr: Learning rate\n",
        "\n",
        "\n"
      ]
    },
    {
      "cell_type": "code",
      "execution_count": null,
      "metadata": {
        "id": "B8NrkfncFDAu"
      },
      "outputs": [],
      "source": [
        "# Train model\n",
        "!python window_detector.py -i 80 -t 63 -d 512 -e 10 -s 1509 -lr 0.01"
      ]
    },
    {
      "cell_type": "markdown",
      "source": [
        "."
      ],
      "metadata": {
        "id": "EjKoXH79eKbn"
      }
    },
    {
      "cell_type": "markdown",
      "metadata": {
        "id": "YTG847E9-8Rc"
      },
      "source": [
        "# Evaluation\n",
        "Run first box before evaluation boxes"
      ]
    },
    {
      "cell_type": "code",
      "execution_count": 5,
      "metadata": {
        "colab": {
          "base_uri": "https://localhost:8080/"
        },
        "id": "url7n74gSvdV",
        "outputId": "6a3527f3-b7c2-4b2e-a695-2ff092970fec"
      },
      "outputs": [
        {
          "output_type": "stream",
          "name": "stdout",
          "text": [
            "window_detector.py\n"
          ]
        }
      ],
      "source": [
        "# BEFORE EVAL\n",
        "# open both files\n",
        "with open('saving_eval.py','r') as firstfile, open('../../../usr/local/lib/python3.7/dist-packages/keras/engine/saving.py','w') as secondfile:\n",
        "      \n",
        "    # read content from first file\n",
        "    for line in firstfile:\n",
        "               \n",
        "             # write content to second file\n",
        "             secondfile.write(line)\n",
        "\n",
        "import os\n",
        "current_dir = os.getcwd()\n",
        "weights_dir = ''\n",
        "for file in os.listdir(current_dir):\n",
        "  if \"window_cfg\" in file:\n",
        "    if os.path.isdir(os.path.join(current_dir,file)):\n",
        "      weights_dir = file\n",
        "      break\n",
        "\n",
        "weights_files = os.listdir(os.path.join(current_dir, weights_dir))\n",
        "weights_file = weights_files[0]\n",
        "for file in weights_files:\n",
        "  if \"mask_rcnn_window_cfg\" in file:\n",
        "    if file > weights_file:\n",
        "      weights_file = file\n",
        "weights_file = os.path.join(weights_dir, weights_file)\n",
        "print(weights_file)\n"
      ]
    },
    {
      "cell_type": "markdown",
      "metadata": {
        "id": "cPJ3mXPh_CjB"
      },
      "source": [
        "### Evaluate the freshly trained model \n",
        "-i: Total number of image directories\n",
        "\n",
        "-t: Directories to train\n",
        "\n",
        "-d: Image dimensions (>=256 and multiple of 32)\n",
        "\n",
        "-p: Make predictions (True/False)\n"
      ]
    },
    {
      "cell_type": "code",
      "execution_count": null,
      "metadata": {
        "id": "l9-mdXWzYL47"
      },
      "outputs": [],
      "source": [
        "# Evaluate Model\n",
        "!python window_predicter.py -in ../zind_dataset/ -w $weights_file -i 6 -t 5 -d 512 -it 1"
      ]
    },
    {
      "cell_type": "markdown",
      "source": [
        "### Evaluate the best performing model"
      ],
      "metadata": {
        "id": "y6dgzI4eLoIw"
      }
    },
    {
      "cell_type": "code",
      "source": [
        "# Evaluate Model\n",
        "!python window_predicter.py -in ../zind_dataset/ -w weights/best_weights_MRCNN.h5 -i 6 -t 5 -d 512 -it 1"
      ],
      "metadata": {
        "id": "UK70PCZtL184"
      },
      "execution_count": null,
      "outputs": []
    },
    {
      "cell_type": "markdown",
      "source": [
        "."
      ],
      "metadata": {
        "id": "4gOFZ8pZeElI"
      }
    },
    {
      "cell_type": "markdown",
      "source": [
        "# Prediction on images\n",
        "\n"
      ],
      "metadata": {
        "id": "dd4eGfMZgAAa"
      }
    },
    {
      "cell_type": "code",
      "source": [
        "# RUN BEFORE MAKING BEFORE PRED\n",
        "import cv2\n",
        "import matplotlib.pyplot as plt\n",
        "def show_prediction(pred_path):\n",
        "  %matplotlib inline\n",
        "  image = cv2.imread(pred_path)\n",
        "  height, width = image.shape[:2]\n",
        "  resized_image = cv2.resize(image,(3*width, 3*height), interpolation = cv2.INTER_CUBIC)\n",
        "  figure = plt.gcf()\n",
        "  figure.set_size_inches(20, 12)\n",
        "  plt.axis(\"off\")\n",
        "  plt.imshow(cv2.cvtColor(resized_image, cv2.COLOR_BGR2RGB))\n",
        "  plt.show()"
      ],
      "metadata": {
        "id": "BDjqa0yGemCz"
      },
      "execution_count": 32,
      "outputs": []
    },
    {
      "cell_type": "markdown",
      "source": [
        "*   To make predictions on the images in the dataset, simply run the next box.\n",
        "*   To make prediction on a custom image, add `\"-ci custom_image_path\" `\n",
        "    \n",
        "    (replace custom_image_path with the actual path of the uploaded image)"
      ],
      "metadata": {
        "id": "wxb38aXEkPWO"
      }
    },
    {
      "cell_type": "code",
      "source": [
        "# Make Predictions on images\n",
        "!python window_predicter.py -in ../zind_dataset/ -w weights/best_weights_MRCNN.h5 -i 1 -t 0 -d 256 -p True -ci custom_image3.jpg"
      ],
      "metadata": {
        "id": "idml5YrnWyDA"
      },
      "execution_count": null,
      "outputs": []
    },
    {
      "cell_type": "code",
      "source": [
        "# View Predictions\n",
        "import os\n",
        "for prediction in os.listdir(\"window_predictions\"):\n",
        "  pred_path = os.path.join(\"window_predictions\", prediction)\n",
        "  show_prediction(pred_path)"
      ],
      "metadata": {
        "id": "7c37uyFJh2OY"
      },
      "execution_count": null,
      "outputs": []
    }
  ],
  "metadata": {
    "accelerator": "GPU",
    "colab": {
      "collapsed_sections": [],
      "name": "FYP_MRCNN.ipynb",
      "provenance": [],
      "mount_file_id": "1k12UQ_Hf6umAMzQA2SMlJrv3J_Bea3mI",
      "authorship_tag": "ABX9TyNURmTsboEdFLjQsTJlxwRQ",
      "include_colab_link": true
    },
    "kernelspec": {
      "display_name": "Python 3",
      "name": "python3"
    },
    "language_info": {
      "name": "python"
    }
  },
  "nbformat": 4,
  "nbformat_minor": 0
}