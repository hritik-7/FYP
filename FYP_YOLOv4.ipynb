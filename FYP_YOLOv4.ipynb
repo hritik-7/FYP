{
  "nbformat": 4,
  "nbformat_minor": 0,
  "metadata": {
    "colab": {
      "name": "FYP_YOLOv4.ipynb",
      "provenance": [],
      "collapsed_sections": [],
      "machine_shape": "hm",
      "include_colab_link": true
    },
    "kernelspec": {
      "name": "python3",
      "display_name": "Python 3"
    },
    "accelerator": "GPU"
  },
  "cells": [
    {
      "cell_type": "markdown",
      "metadata": {
        "id": "view-in-github",
        "colab_type": "text"
      },
      "source": [
        "<a href=\"https://colab.research.google.com/github/hritik-7/FYP/blob/main/FYP_YOLOv4.ipynb\" target=\"_parent\"><img src=\"https://colab.research.google.com/assets/colab-badge.svg\" alt=\"Open In Colab\"/></a>"
      ]
    },
    {
      "cell_type": "markdown",
      "source": [
        "# ***YOLOv4 Model***"
      ],
      "metadata": {
        "id": "UnAi7uPX18TV"
      }
    },
    {
      "cell_type": "markdown",
      "source": [
        "."
      ],
      "metadata": {
        "id": "mikMvvFi1-C9"
      }
    },
    {
      "cell_type": "markdown",
      "metadata": {
        "id": "O2w9w1Ye_nk1"
      },
      "source": [
        "# Enable GPU in this notebook.\n",
        "*   Click **Runtime** at the top of the notebook.\n",
        "*   Click **Change Runtime Type**.\n",
        "*   Select **GPU** as the hardware accelerator.\n",
        "*   Click **Save**.\n",
        "\n",
        "\n"
      ]
    },
    {
      "cell_type": "markdown",
      "source": [
        ".\n"
      ],
      "metadata": {
        "id": "6yn3QVjy14aE"
      }
    },
    {
      "cell_type": "markdown",
      "metadata": {
        "id": "gE3azXoR_pWi"
      },
      "source": [
        "# **Run the first box before proceeding**\n"
      ]
    },
    {
      "cell_type": "markdown",
      "source": [
        "## Clone the Darknet YOLOv4 and the custom git repositories and run the following commands\n",
        "This may take a few minutes"
      ],
      "metadata": {
        "id": "RGLPkXl1ZRAN"
      }
    },
    {
      "cell_type": "code",
      "metadata": {
        "id": "68eMertgIxaB"
      },
      "source": [
        "# clone darknet repo\n",
        "!git clone https://github.com/AlexeyAB/darknet\n",
        "# change makefile to have GPU and OPENCV enabled\n",
        "%cd darknet\n",
        "!sed -i 's/OPENCV=0/OPENCV=1/' Makefile\n",
        "!sed -i 's/GPU=0/GPU=1/' Makefile\n",
        "!sed -i 's/CUDNN=0/CUDNN=1/' Makefile\n",
        "!sed -i 's/CUDNN_HALF=0/CUDNN_HALF=1/' Makefile\n",
        "# make darknet (builds darknet so that you can then use the darknet executable file to run or train object detectors)\n",
        "!make\n",
        "!wget https://github.com/AlexeyAB/darknet/releases/download/darknet_yolo_v3_optimal/yolov4.conv.137\n",
        "\n",
        "!git clone --branch master https://gitlab.com/sc19h2m/fyp.git"
      ],
      "execution_count": null,
      "outputs": []
    },
    {
      "cell_type": "markdown",
      "source": [
        "."
      ],
      "metadata": {
        "id": "wGz24Q6W13O8"
      }
    },
    {
      "cell_type": "markdown",
      "source": [
        "# Training\n",
        "\n",
        "\n",
        "*   To modify batch size, image dimensions, momentum, decay, learning rate, steps per epoch or any other parameters, open \"darknet/fyp/YOLOv4/yolo-obj.cfg\" using the \"Files\" panel on the left and make the desired changes.\n",
        "*   Train set contains 1000 images and validation set contains 224 images\n",
        "\n",
        "\n"
      ],
      "metadata": {
        "id": "V1-T8d-3Bv-t"
      }
    },
    {
      "cell_type": "code",
      "source": [
        "!./darknet detector train fyp/YOLOv4/obj.data fyp/YOLOv4/yolo-obj.cfg yolov4.conv.137 -dont_show -map"
      ],
      "metadata": {
        "id": "doLqDIpcuozp"
      },
      "execution_count": null,
      "outputs": []
    },
    {
      "cell_type": "markdown",
      "source": [
        "."
      ],
      "metadata": {
        "id": "jyZNA9El12m9"
      }
    },
    {
      "cell_type": "markdown",
      "source": [
        "# Evaluation\n",
        "Evaluation parameters can be changed by editing the \"darknet/fyp/YOLOv4/yolo-obj.cfg\" as well.\n",
        " \n"
      ],
      "metadata": {
        "id": "diN91wTMCgf0"
      }
    },
    {
      "cell_type": "markdown",
      "source": [
        "### Evaluate the freshly trained model"
      ],
      "metadata": {
        "id": "Bj6RBkBybpYM"
      }
    },
    {
      "cell_type": "code",
      "source": [
        "!./darknet detector map fyp/YOLOv4/obj.data fyp/YOLOv4/yolo-obj.cfg backup/yolo-obj_best.weights"
      ],
      "metadata": {
        "id": "EgFPSkuuCkCR"
      },
      "execution_count": null,
      "outputs": []
    },
    {
      "cell_type": "markdown",
      "source": [
        "### Evaluate the best performing model "
      ],
      "metadata": {
        "id": "AO00SZoobNnz"
      }
    },
    {
      "cell_type": "code",
      "source": [
        "!./darknet detector map fyp/YOLOv4/obj.data fyp/YOLOv4/yolo-obj.cfg fyp/YOLOv4/weights/best_weights_YOLOv4.weights"
      ],
      "metadata": {
        "id": "LuSkLH6aQ_n6"
      },
      "execution_count": null,
      "outputs": []
    },
    {
      "cell_type": "markdown",
      "source": [
        "."
      ],
      "metadata": {
        "id": "8QRUL3e71yQt"
      }
    },
    {
      "cell_type": "markdown",
      "source": [
        "# Predictions on images"
      ],
      "metadata": {
        "id": "3Em-T__xCk8E"
      }
    },
    {
      "cell_type": "code",
      "source": [
        "# RUN BEFORE MAKING PREDICTIONS \n",
        "import cv2\n",
        "import matplotlib.pyplot as plt\n",
        "def show_prediction(pred_path):\n",
        "  %matplotlib inline\n",
        "  image = cv2.imread(pred_path)\n",
        "  height, width = image.shape[:2]\n",
        "  resized_image = cv2.resize(image,(3*width, 3*height), interpolation = cv2.INTER_CUBIC)\n",
        "  figure = plt.gcf()\n",
        "  figure.set_size_inches(20, 12)\n",
        "  plt.axis(\"off\")\n",
        "  plt.imshow(cv2.cvtColor(resized_image, cv2.COLOR_BGR2RGB))\n",
        "  plt.show()"
      ],
      "metadata": {
        "id": "LrGGhci8b8tQ"
      },
      "execution_count": 29,
      "outputs": []
    },
    {
      "cell_type": "markdown",
      "source": [
        "### Make predictions on 10 images from the test set"
      ],
      "metadata": {
        "id": "cGZpbAyd06F1"
      }
    },
    {
      "cell_type": "code",
      "source": [
        "# IMAGE PATHS IN darknet/fyp/YOLOv4/prediction.txt\n",
        "import shutil\n",
        "import os\n",
        "from pathlib import Path\n",
        "output_dir_name = \"window_predictions\"\n",
        "output_dir = Path(output_dir_name)\n",
        "if output_dir.exists() and output_dir.is_dir():\n",
        "  shutil.rmtree(output_dir)\n",
        "os.mkdir(output_dir_name)\n",
        "\n",
        "with open (\"fyp/YOLOv4/prediction.txt\", \"r\") as fin:\n",
        "  lines = fin.readlines()\n",
        "  index = 1\n",
        "  for line in lines:\n",
        "    print(line)\n",
        "    !./darknet detector test fyp/YOLOv4/obj.data fyp/YOLOv4/yolo-obj.cfg fyp/YOLOv4/weights/best_weights_YOLOv4.weights $line\n",
        "    pred_name = output_dir_name + \"/prediction\" + str(index) + \".jpg\"\n",
        "    index += 1\n",
        "    !mv predictions.jpg $pred_name\n"
      ],
      "metadata": {
        "id": "cJskeQnemn2u"
      },
      "execution_count": null,
      "outputs": []
    },
    {
      "cell_type": "code",
      "source": [
        "# VIEW PREDICTIONS\n",
        "for prediction in os.listdir(\"window_predictions\"):\n",
        "  if prediction[0] != '.':\n",
        "    pred_path = os.path.join(\"window_predictions\", prediction)\n",
        "    print(pred_path)\n",
        "    show_prediction(pred_path)"
      ],
      "metadata": {
        "id": "8ZcgEjAxusX9"
      },
      "execution_count": null,
      "outputs": []
    },
    {
      "cell_type": "markdown",
      "source": [
        "### Make prediction on a custom image\n",
        "* Upload a custom image to the file panel at the left of the page\n",
        "\n"
      ],
      "metadata": {
        "id": "-B0f0KCM00py"
      }
    },
    {
      "cell_type": "code",
      "source": [
        "# SET CUSTOM IMAGE PATH (example \"custom_image.jpg\")\n",
        "custom_image_path = \"\""
      ],
      "metadata": {
        "id": "NSkk348C4l_y"
      },
      "execution_count": null,
      "outputs": []
    },
    {
      "cell_type": "code",
      "source": [
        "# MAKE PREDICTION\n",
        "!./darknet detector test fyp/YOLOv4/obj.data fyp/YOLOv4/yolo-obj.cfg fyp/YOLOv4/weights/best_weights_YOLOv4.weights $custom_image_path"
      ],
      "metadata": {
        "id": "onrXnN172eN8"
      },
      "execution_count": null,
      "outputs": []
    },
    {
      "cell_type": "code",
      "source": [
        "# SHOW PREDICTION\n",
        "show_prediction('predictions.jpg')"
      ],
      "metadata": {
        "id": "x4CSDcWg2eK-"
      },
      "execution_count": null,
      "outputs": []
    }
  ]
}